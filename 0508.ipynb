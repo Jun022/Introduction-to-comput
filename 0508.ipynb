{
  "nbformat": 4,
  "nbformat_minor": 0,
  "metadata": {
    "colab": {
      "provenance": [],
      "authorship_tag": "ABX9TyOENco8nlWsSLboP0mWJsPu",
      "include_colab_link": true
    },
    "kernelspec": {
      "name": "python3",
      "display_name": "Python 3"
    },
    "language_info": {
      "name": "python"
    }
  },
  "cells": [
    {
      "cell_type": "markdown",
      "metadata": {
        "id": "view-in-github",
        "colab_type": "text"
      },
      "source": [
        "<a href=\"https://colab.research.google.com/github/Jun022/Introduction-to-comput/blob/main/0508.ipynb\" target=\"_parent\"><img src=\"https://colab.research.google.com/assets/colab-badge.svg\" alt=\"Open In Colab\"/></a>"
      ]
    },
    {
      "cell_type": "code",
      "execution_count": 1,
      "metadata": {
        "colab": {
          "base_uri": "https://localhost:8080/"
        },
        "id": "7u9tNwG1nCe5",
        "outputId": "cff46933-c639-4025-a6de-56bece648a1a"
      },
      "outputs": [
        {
          "output_type": "stream",
          "name": "stdout",
          "text": [
            "hi\n"
          ]
        }
      ],
      "source": [
        "print(\"hi\")"
      ]
    },
    {
      "cell_type": "code",
      "source": [
        "體溫 = float(input(\"請輸入體溫\"))\n",
        "if 體溫 >= 37.5:\n",
        "  print(\"體溫過高\")\n",
        "elif 37.4 > 體溫 > 37:\n",
        "  print(\"體溫略高\")\n",
        "elif 36.9 > 體溫 > 34:\n",
        "  print(\"體溫正常\")\n",
        "else:\n",
        "    print(\"體溫異常，請重新測量\")\n"
      ],
      "metadata": {
        "colab": {
          "base_uri": "https://localhost:8080/"
        },
        "id": "oDY1q6K5pg3S",
        "outputId": "405d4c2b-5e46-46e9-fe47-2635d8b7ef53"
      },
      "execution_count": 7,
      "outputs": [
        {
          "output_type": "stream",
          "name": "stdout",
          "text": [
            "請輸入體溫37.2\n",
            "體溫略高\n"
          ]
        }
      ]
    },
    {
      "cell_type": "code",
      "source": [
        "成績 = int(input(\"請輸入成績\"))\n",
        "if(成績>=90):\n",
        "  print(\"A\")\n",
        "elif(成績>=80):\n",
        "  print(\"B\")\n",
        "elif(成績>=70):\n",
        "  print(\"C\")\n",
        "elif(成績>=60):\n",
        "  print(\"D\")\n",
        "else:\n",
        "  print(\"E\")\n"
      ],
      "metadata": {
        "colab": {
          "base_uri": "https://localhost:8080/"
        },
        "id": "8zq7aisjrFvx",
        "outputId": "7995083b-d1ed-40bb-8c26-36c31d181218"
      },
      "execution_count": 10,
      "outputs": [
        {
          "output_type": "stream",
          "name": "stdout",
          "text": [
            "請輸入成績50\n",
            "E\n"
          ]
        }
      ]
    },
    {
      "cell_type": "code",
      "source": [
        "季節 = input(\"請輸入月份\")\n",
        "if (季節==\"3\" or 季節==\"4\" or 季節==\"5\"):\n",
        "  print(季節,\"月是春天！\")\n",
        "elif 季節 == \"6\" or 季節 == \"7\" or 季節 == \"8\":\n",
        "  print(季節, \"月是夏天！\")\n",
        "elif 季節 in (\"9\", \"10\", \"11\"):\n",
        "  print(季節, \"月是秋天！\")\n",
        "elif 季節 in (\"12\", \"1\", \"2\"):\n",
        "  print(季節,\"月是冬天！\")\n",
        "else:\n",
        "  print(\"月份不在範圍內\")"
      ],
      "metadata": {
        "colab": {
          "base_uri": "https://localhost:8080/"
        },
        "id": "TwgODVNKswTF",
        "outputId": "55ad4730-72f8-44a0-b464-13763e980f73"
      },
      "execution_count": 18,
      "outputs": [
        {
          "output_type": "stream",
          "name": "stdout",
          "text": [
            "請輸入月份10\n",
            "10 月是秋天！\n"
          ]
        }
      ]
    }
  ]
}